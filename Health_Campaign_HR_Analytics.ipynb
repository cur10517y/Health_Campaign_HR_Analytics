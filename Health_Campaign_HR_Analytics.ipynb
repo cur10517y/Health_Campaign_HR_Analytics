{
 "cells": [
  {
   "cell_type": "code",
   "execution_count": 1,
   "id": "842a3db4",
   "metadata": {},
   "outputs": [
    {
     "name": "stderr",
     "output_type": "stream",
     "text": [
      "C:\\Users\\user\\anaconda3\\lib\\site-packages\\scipy\\__init__.py:146: UserWarning: A NumPy version >=1.16.5 and <1.23.0 is required for this version of SciPy (detected version 1.26.3\n",
      "  warnings.warn(f\"A NumPy version >={np_minversion} and <{np_maxversion}\"\n"
     ]
    }
   ],
   "source": [
    "import pandas as pd\n",
    "import numpy as np\n",
    "import seaborn as sns\n",
    "import matplotlib.pyplot as plt"
   ]
  },
  {
   "cell_type": "code",
   "execution_count": 2,
   "id": "3383ec7d",
   "metadata": {},
   "outputs": [],
   "source": [
    "df = pd.read_excel(\"./Health_Checkup_Campaign.xlsx\")"
   ]
  },
  {
   "cell_type": "code",
   "execution_count": 3,
   "id": "d1dc4d2a",
   "metadata": {},
   "outputs": [
    {
     "data": {
      "text/html": [
       "<div>\n",
       "<style scoped>\n",
       "    .dataframe tbody tr th:only-of-type {\n",
       "        vertical-align: middle;\n",
       "    }\n",
       "\n",
       "    .dataframe tbody tr th {\n",
       "        vertical-align: top;\n",
       "    }\n",
       "\n",
       "    .dataframe thead th {\n",
       "        text-align: right;\n",
       "    }\n",
       "</style>\n",
       "<table border=\"1\" class=\"dataframe\">\n",
       "  <thead>\n",
       "    <tr style=\"text-align: right;\">\n",
       "      <th></th>\n",
       "      <th>Reg_Code</th>\n",
       "      <th>Region</th>\n",
       "      <th>Area</th>\n",
       "      <th>Avg_HCI</th>\n",
       "      <th>Average BP_Sys</th>\n",
       "      <th>Average BP_Dias</th>\n",
       "      <th>height</th>\n",
       "      <th>Weight</th>\n",
       "      <th>Age</th>\n",
       "      <th>Male</th>\n",
       "      <th>Female</th>\n",
       "    </tr>\n",
       "  </thead>\n",
       "  <tbody>\n",
       "    <tr>\n",
       "      <th>0</th>\n",
       "      <td>E12000009</td>\n",
       "      <td>South West</td>\n",
       "      <td>Tewkesbury</td>\n",
       "      <td>42.0056</td>\n",
       "      <td>115</td>\n",
       "      <td>72</td>\n",
       "      <td>1.81</td>\n",
       "      <td>86</td>\n",
       "      <td>38</td>\n",
       "      <td>62</td>\n",
       "      <td>33</td>\n",
       "    </tr>\n",
       "    <tr>\n",
       "      <th>1</th>\n",
       "      <td>E12000004</td>\n",
       "      <td>East Midlands</td>\n",
       "      <td>South Northamptonshire</td>\n",
       "      <td>52.4352</td>\n",
       "      <td>103</td>\n",
       "      <td>87</td>\n",
       "      <td>1.69</td>\n",
       "      <td>118</td>\n",
       "      <td>54</td>\n",
       "      <td>70</td>\n",
       "      <td>36</td>\n",
       "    </tr>\n",
       "    <tr>\n",
       "      <th>2</th>\n",
       "      <td>E12000009</td>\n",
       "      <td>South West</td>\n",
       "      <td>South Gloucestershire</td>\n",
       "      <td>44.5836</td>\n",
       "      <td>131</td>\n",
       "      <td>77</td>\n",
       "      <td>1.86</td>\n",
       "      <td>76</td>\n",
       "      <td>50</td>\n",
       "      <td>76</td>\n",
       "      <td>38</td>\n",
       "    </tr>\n",
       "    <tr>\n",
       "      <th>3</th>\n",
       "      <td>E12000008</td>\n",
       "      <td>South East</td>\n",
       "      <td>Guildford</td>\n",
       "      <td>42.7372</td>\n",
       "      <td>124</td>\n",
       "      <td>84</td>\n",
       "      <td>1.84</td>\n",
       "      <td>86</td>\n",
       "      <td>34</td>\n",
       "      <td>70</td>\n",
       "      <td>36</td>\n",
       "    </tr>\n",
       "    <tr>\n",
       "      <th>4</th>\n",
       "      <td>E12000004</td>\n",
       "      <td>East Midlands</td>\n",
       "      <td>Corby</td>\n",
       "      <td>45.8024</td>\n",
       "      <td>109</td>\n",
       "      <td>82</td>\n",
       "      <td>1.71</td>\n",
       "      <td>76</td>\n",
       "      <td>61</td>\n",
       "      <td>66</td>\n",
       "      <td>26</td>\n",
       "    </tr>\n",
       "  </tbody>\n",
       "</table>\n",
       "</div>"
      ],
      "text/plain": [
       "    Reg_Code         Region                    Area  Avg_HCI  Average BP_Sys  \\\n",
       "0  E12000009     South West              Tewkesbury  42.0056             115   \n",
       "1  E12000004  East Midlands  South Northamptonshire  52.4352             103   \n",
       "2  E12000009     South West   South Gloucestershire  44.5836             131   \n",
       "3  E12000008     South East               Guildford  42.7372             124   \n",
       "4  E12000004  East Midlands                   Corby  45.8024             109   \n",
       "\n",
       "   Average BP_Dias  height  Weight  Age  Male  Female  \n",
       "0               72    1.81      86   38    62      33  \n",
       "1               87    1.69     118   54    70      36  \n",
       "2               77    1.86      76   50    76      38  \n",
       "3               84    1.84      86   34    70      36  \n",
       "4               82    1.71      76   61    66      26  "
      ]
     },
     "execution_count": 3,
     "metadata": {},
     "output_type": "execute_result"
    }
   ],
   "source": [
    "df.head()"
   ]
  },
  {
   "cell_type": "code",
   "execution_count": 4,
   "id": "acc39b76",
   "metadata": {},
   "outputs": [
    {
     "data": {
      "text/plain": [
       "(326, 11)"
      ]
     },
     "execution_count": 4,
     "metadata": {},
     "output_type": "execute_result"
    }
   ],
   "source": [
    "df.shape"
   ]
  },
  {
   "cell_type": "code",
   "execution_count": 5,
   "id": "ab41e0d5",
   "metadata": {},
   "outputs": [
    {
     "name": "stdout",
     "output_type": "stream",
     "text": [
      "<class 'pandas.core.frame.DataFrame'>\n",
      "RangeIndex: 326 entries, 0 to 325\n",
      "Data columns (total 11 columns):\n",
      " #   Column           Non-Null Count  Dtype  \n",
      "---  ------           --------------  -----  \n",
      " 0   Reg_Code         326 non-null    object \n",
      " 1   Region           326 non-null    object \n",
      " 2   Area             326 non-null    object \n",
      " 3   Avg_HCI          326 non-null    float64\n",
      " 4   Average BP_Sys   326 non-null    int64  \n",
      " 5   Average BP_Dias  326 non-null    int64  \n",
      " 6   height           326 non-null    float64\n",
      " 7   Weight           326 non-null    int64  \n",
      " 8   Age              326 non-null    int64  \n",
      " 9   Male             326 non-null    int64  \n",
      " 10  Female           326 non-null    int64  \n",
      "dtypes: float64(2), int64(6), object(3)\n",
      "memory usage: 28.1+ KB\n"
     ]
    }
   ],
   "source": [
    "df.info()"
   ]
  },
  {
   "cell_type": "code",
   "execution_count": 6,
   "id": "21e0c315",
   "metadata": {},
   "outputs": [
    {
     "data": {
      "text/html": [
       "<div>\n",
       "<style scoped>\n",
       "    .dataframe tbody tr th:only-of-type {\n",
       "        vertical-align: middle;\n",
       "    }\n",
       "\n",
       "    .dataframe tbody tr th {\n",
       "        vertical-align: top;\n",
       "    }\n",
       "\n",
       "    .dataframe thead th {\n",
       "        text-align: right;\n",
       "    }\n",
       "</style>\n",
       "<table border=\"1\" class=\"dataframe\">\n",
       "  <thead>\n",
       "    <tr style=\"text-align: right;\">\n",
       "      <th></th>\n",
       "      <th>count</th>\n",
       "      <th>mean</th>\n",
       "      <th>std</th>\n",
       "      <th>min</th>\n",
       "      <th>25%</th>\n",
       "      <th>50%</th>\n",
       "      <th>75%</th>\n",
       "      <th>max</th>\n",
       "    </tr>\n",
       "  </thead>\n",
       "  <tbody>\n",
       "    <tr>\n",
       "      <th>Avg_HCI</th>\n",
       "      <td>326.0</td>\n",
       "      <td>47.798677</td>\n",
       "      <td>4.527006</td>\n",
       "      <td>37.0732</td>\n",
       "      <td>44.5365</td>\n",
       "      <td>47.6984</td>\n",
       "      <td>51.2535</td>\n",
       "      <td>58.2728</td>\n",
       "    </tr>\n",
       "    <tr>\n",
       "      <th>Average BP_Sys</th>\n",
       "      <td>326.0</td>\n",
       "      <td>121.214724</td>\n",
       "      <td>17.978018</td>\n",
       "      <td>90.0000</td>\n",
       "      <td>105.0000</td>\n",
       "      <td>122.0000</td>\n",
       "      <td>137.0000</td>\n",
       "      <td>150.0000</td>\n",
       "    </tr>\n",
       "    <tr>\n",
       "      <th>Average BP_Dias</th>\n",
       "      <td>326.0</td>\n",
       "      <td>85.168712</td>\n",
       "      <td>8.895586</td>\n",
       "      <td>70.0000</td>\n",
       "      <td>77.0000</td>\n",
       "      <td>85.5000</td>\n",
       "      <td>92.0000</td>\n",
       "      <td>100.0000</td>\n",
       "    </tr>\n",
       "    <tr>\n",
       "      <th>height</th>\n",
       "      <td>326.0</td>\n",
       "      <td>1.826840</td>\n",
       "      <td>0.085737</td>\n",
       "      <td>1.6700</td>\n",
       "      <td>1.7500</td>\n",
       "      <td>1.8200</td>\n",
       "      <td>1.9000</td>\n",
       "      <td>1.9800</td>\n",
       "    </tr>\n",
       "    <tr>\n",
       "      <th>Weight</th>\n",
       "      <td>326.0</td>\n",
       "      <td>95.539877</td>\n",
       "      <td>15.302989</td>\n",
       "      <td>70.0000</td>\n",
       "      <td>81.0000</td>\n",
       "      <td>95.0000</td>\n",
       "      <td>110.0000</td>\n",
       "      <td>120.0000</td>\n",
       "    </tr>\n",
       "    <tr>\n",
       "      <th>Age</th>\n",
       "      <td>326.0</td>\n",
       "      <td>47.705521</td>\n",
       "      <td>11.735250</td>\n",
       "      <td>28.0000</td>\n",
       "      <td>38.0000</td>\n",
       "      <td>49.0000</td>\n",
       "      <td>58.0000</td>\n",
       "      <td>67.0000</td>\n",
       "    </tr>\n",
       "    <tr>\n",
       "      <th>Male</th>\n",
       "      <td>326.0</td>\n",
       "      <td>66.027607</td>\n",
       "      <td>8.751747</td>\n",
       "      <td>50.0000</td>\n",
       "      <td>59.0000</td>\n",
       "      <td>66.0000</td>\n",
       "      <td>74.0000</td>\n",
       "      <td>80.0000</td>\n",
       "    </tr>\n",
       "    <tr>\n",
       "      <th>Female</th>\n",
       "      <td>326.0</td>\n",
       "      <td>29.441718</td>\n",
       "      <td>6.050656</td>\n",
       "      <td>20.0000</td>\n",
       "      <td>24.0000</td>\n",
       "      <td>29.0000</td>\n",
       "      <td>34.7500</td>\n",
       "      <td>40.0000</td>\n",
       "    </tr>\n",
       "  </tbody>\n",
       "</table>\n",
       "</div>"
      ],
      "text/plain": [
       "                 count        mean        std      min       25%       50%  \\\n",
       "Avg_HCI          326.0   47.798677   4.527006  37.0732   44.5365   47.6984   \n",
       "Average BP_Sys   326.0  121.214724  17.978018  90.0000  105.0000  122.0000   \n",
       "Average BP_Dias  326.0   85.168712   8.895586  70.0000   77.0000   85.5000   \n",
       "height           326.0    1.826840   0.085737   1.6700    1.7500    1.8200   \n",
       "Weight           326.0   95.539877  15.302989  70.0000   81.0000   95.0000   \n",
       "Age              326.0   47.705521  11.735250  28.0000   38.0000   49.0000   \n",
       "Male             326.0   66.027607   8.751747  50.0000   59.0000   66.0000   \n",
       "Female           326.0   29.441718   6.050656  20.0000   24.0000   29.0000   \n",
       "\n",
       "                      75%       max  \n",
       "Avg_HCI           51.2535   58.2728  \n",
       "Average BP_Sys   137.0000  150.0000  \n",
       "Average BP_Dias   92.0000  100.0000  \n",
       "height             1.9000    1.9800  \n",
       "Weight           110.0000  120.0000  \n",
       "Age               58.0000   67.0000  \n",
       "Male              74.0000   80.0000  \n",
       "Female            34.7500   40.0000  "
      ]
     },
     "execution_count": 6,
     "metadata": {},
     "output_type": "execute_result"
    }
   ],
   "source": [
    "df.describe().T"
   ]
  },
  {
   "cell_type": "code",
   "execution_count": 7,
   "id": "cf8e4c67",
   "metadata": {},
   "outputs": [
    {
     "data": {
      "text/plain": [
       "South East                  67\n",
       "East                        47\n",
       "East Midlands               40\n",
       "North West                  39\n",
       "South West                  37\n",
       "London                      33\n",
       "West Midlands               30\n",
       "Yorkshire and The Humber    21\n",
       "North East                  12\n",
       "Name: Region, dtype: int64"
      ]
     },
     "execution_count": 7,
     "metadata": {},
     "output_type": "execute_result"
    }
   ],
   "source": [
    "df['Region'].value_counts()"
   ]
  },
  {
   "cell_type": "code",
   "execution_count": 8,
   "id": "ea664c55",
   "metadata": {},
   "outputs": [
    {
     "data": {
      "text/plain": [
       "<AxesSubplot:xlabel='height'>"
      ]
     },
     "execution_count": 8,
     "metadata": {},
     "output_type": "execute_result"
    },
    {
     "data": {
      "image/png": "[encoded data removed]",
      "text/plain": [
       "<Figure size 432x288 with 1 Axes>"
      ]
     },
     "metadata": {
      "needs_background": "light"
     },
     "output_type": "display_data"
    }
   ],
   "source": [
    "sns.boxplot(data=df,x='height')"
   ]
  },
  {
   "cell_type": "code",
   "execution_count": 9,
   "id": "f8922dae",
   "metadata": {},
   "outputs": [
    {
     "data": {
      "text/plain": [
       "<AxesSubplot:xlabel='Weight'>"
      ]
     },
     "execution_count": 9,
     "metadata": {},
     "output_type": "execute_result"
    },
    {
     "data": {
      "image/png": "[encoded data removed]",
      "text/plain": [
       "<Figure size 432x288 with 1 Axes>"
      ]
     },
     "metadata": {
      "needs_background": "light"
     },
     "output_type": "display_data"
    }
   ],
   "source": [
    "sns.boxplot(data=df,x='Weight')"
   ]
  },
  {
   "cell_type": "code",
   "execution_count": 10,
   "id": "f58c386f",
   "metadata": {},
   "outputs": [
    {
     "data": {
      "text/plain": [
       "<AxesSubplot:xlabel='Male'>"
      ]
     },
     "execution_count": 10,
     "metadata": {},
     "output_type": "execute_result"
    },
    {
     "data": {
      "image/png": "[encoded data removed]",
      "text/plain": [
       "<Figure size 432x288 with 1 Axes>"
      ]
     },
     "metadata": {
      "needs_background": "light"
     },
     "output_type": "display_data"
    }
   ],
   "source": [
    "sns.boxplot(data=df,x='Male')"
   ]
  },
  {
   "cell_type": "code",
   "execution_count": 11,
   "id": "0a3cef54",
   "metadata": {},
   "outputs": [
    {
     "data": {
      "text/plain": [
       "<AxesSubplot:xlabel='Female'>"
      ]
     },
     "execution_count": 11,
     "metadata": {},
     "output_type": "execute_result"
    },
    {
     "data": {
      "image/png": "[encoded data removed]",
      "text/plain": [
       "<Figure size 432x288 with 1 Axes>"
      ]
     },
     "metadata": {
      "needs_background": "light"
     },
     "output_type": "display_data"
    }
   ],
   "source": [
    "sns.boxplot(data=df,x='Female')"
   ]
  },
  {
   "cell_type": "markdown",
   "id": "9ba03752",
   "metadata": {},
   "source": [
    "# PS 1: Identify the three most common regions with the highest proportion of male employees"
   ]
  },
  {
   "cell_type": "code",
   "execution_count": 12,
   "id": "1aa1b030",
   "metadata": {},
   "outputs": [],
   "source": [
    "x = df.groupby('Region')['Male'].mean()"
   ]
  },
  {
   "cell_type": "code",
   "execution_count": 13,
   "id": "157bf030",
   "metadata": {},
   "outputs": [
    {
     "data": {
      "text/plain": [
       "Region\n",
       "North East    68.666667\n",
       "South East    68.164179\n",
       "London        67.272727\n",
       "Name: Male, dtype: float64"
      ]
     },
     "execution_count": 13,
     "metadata": {},
     "output_type": "execute_result"
    }
   ],
   "source": [
    "x.sort_values(ascending=False).head(3)"
   ]
  },
  {
   "cell_type": "markdown",
   "id": "dd64fb35",
   "metadata": {},
   "source": [
    "# PS 2: Create a new column ‘BMI’ in the data frame calculated as weight divided by the square of height and display the first five rows."
   ]
  },
  {
   "cell_type": "code",
   "execution_count": 14,
   "id": "55fe3625",
   "metadata": {},
   "outputs": [],
   "source": [
    "df['BMI'] = df['Weight'] / (df['height'] ** 2)"
   ]
  },
  {
   "cell_type": "code",
   "execution_count": 15,
   "id": "a999da8b",
   "metadata": {},
   "outputs": [
    {
     "data": {
      "text/html": [
       "<div>\n",
       "<style scoped>\n",
       "    .dataframe tbody tr th:only-of-type {\n",
       "        vertical-align: middle;\n",
       "    }\n",
       "\n",
       "    .dataframe tbody tr th {\n",
       "        vertical-align: top;\n",
       "    }\n",
       "\n",
       "    .dataframe thead th {\n",
       "        text-align: right;\n",
       "    }\n",
       "</style>\n",
       "<table border=\"1\" class=\"dataframe\">\n",
       "  <thead>\n",
       "    <tr style=\"text-align: right;\">\n",
       "      <th></th>\n",
       "      <th>Reg_Code</th>\n",
       "      <th>Region</th>\n",
       "      <th>Area</th>\n",
       "      <th>Avg_HCI</th>\n",
       "      <th>Average BP_Sys</th>\n",
       "      <th>Average BP_Dias</th>\n",
       "      <th>height</th>\n",
       "      <th>Weight</th>\n",
       "      <th>Age</th>\n",
       "      <th>Male</th>\n",
       "      <th>Female</th>\n",
       "      <th>BMI</th>\n",
       "    </tr>\n",
       "  </thead>\n",
       "  <tbody>\n",
       "    <tr>\n",
       "      <th>0</th>\n",
       "      <td>E12000009</td>\n",
       "      <td>South West</td>\n",
       "      <td>Tewkesbury</td>\n",
       "      <td>42.0056</td>\n",
       "      <td>115</td>\n",
       "      <td>72</td>\n",
       "      <td>1.81</td>\n",
       "      <td>86</td>\n",
       "      <td>38</td>\n",
       "      <td>62</td>\n",
       "      <td>33</td>\n",
       "      <td>26.250725</td>\n",
       "    </tr>\n",
       "    <tr>\n",
       "      <th>1</th>\n",
       "      <td>E12000004</td>\n",
       "      <td>East Midlands</td>\n",
       "      <td>South Northamptonshire</td>\n",
       "      <td>52.4352</td>\n",
       "      <td>103</td>\n",
       "      <td>87</td>\n",
       "      <td>1.69</td>\n",
       "      <td>118</td>\n",
       "      <td>54</td>\n",
       "      <td>70</td>\n",
       "      <td>36</td>\n",
       "      <td>41.315080</td>\n",
       "    </tr>\n",
       "    <tr>\n",
       "      <th>2</th>\n",
       "      <td>E12000009</td>\n",
       "      <td>South West</td>\n",
       "      <td>South Gloucestershire</td>\n",
       "      <td>44.5836</td>\n",
       "      <td>131</td>\n",
       "      <td>77</td>\n",
       "      <td>1.86</td>\n",
       "      <td>76</td>\n",
       "      <td>50</td>\n",
       "      <td>76</td>\n",
       "      <td>38</td>\n",
       "      <td>21.967858</td>\n",
       "    </tr>\n",
       "    <tr>\n",
       "      <th>3</th>\n",
       "      <td>E12000008</td>\n",
       "      <td>South East</td>\n",
       "      <td>Guildford</td>\n",
       "      <td>42.7372</td>\n",
       "      <td>124</td>\n",
       "      <td>84</td>\n",
       "      <td>1.84</td>\n",
       "      <td>86</td>\n",
       "      <td>34</td>\n",
       "      <td>70</td>\n",
       "      <td>36</td>\n",
       "      <td>25.401701</td>\n",
       "    </tr>\n",
       "    <tr>\n",
       "      <th>4</th>\n",
       "      <td>E12000004</td>\n",
       "      <td>East Midlands</td>\n",
       "      <td>Corby</td>\n",
       "      <td>45.8024</td>\n",
       "      <td>109</td>\n",
       "      <td>82</td>\n",
       "      <td>1.71</td>\n",
       "      <td>76</td>\n",
       "      <td>61</td>\n",
       "      <td>66</td>\n",
       "      <td>26</td>\n",
       "      <td>25.990903</td>\n",
       "    </tr>\n",
       "  </tbody>\n",
       "</table>\n",
       "</div>"
      ],
      "text/plain": [
       "    Reg_Code         Region                    Area  Avg_HCI  Average BP_Sys  \\\n",
       "0  E12000009     South West              Tewkesbury  42.0056             115   \n",
       "1  E12000004  East Midlands  South Northamptonshire  52.4352             103   \n",
       "2  E12000009     South West   South Gloucestershire  44.5836             131   \n",
       "3  E12000008     South East               Guildford  42.7372             124   \n",
       "4  E12000004  East Midlands                   Corby  45.8024             109   \n",
       "\n",
       "   Average BP_Dias  height  Weight  Age  Male  Female        BMI  \n",
       "0               72    1.81      86   38    62      33  26.250725  \n",
       "1               87    1.69     118   54    70      36  41.315080  \n",
       "2               77    1.86      76   50    76      38  21.967858  \n",
       "3               84    1.84      86   34    70      36  25.401701  \n",
       "4               82    1.71      76   61    66      26  25.990903  "
      ]
     },
     "execution_count": 15,
     "metadata": {},
     "output_type": "execute_result"
    }
   ],
   "source": [
    "df.head(5)"
   ]
  },
  {
   "cell_type": "markdown",
   "id": "088eb486",
   "metadata": {},
   "source": [
    "# PS 3:Create a new column ‘BMI Category’ based on BMI values:\n",
    "## - BMI lesser than 18.5 : Underweight\n",
    "## - BMI is between 18.5 and 25 : Normal\n",
    "## - BMI is between 25 and 30 : Overweight\n",
    "## - BMI greater than 30 : Obese"
   ]
  },
  {
   "cell_type": "code",
   "execution_count": 16,
   "id": "3920ced2",
   "metadata": {},
   "outputs": [],
   "source": [
    "def category(bmi):\n",
    "    if bmi < 18.5:\n",
    "        return 'Underweight'\n",
    "    elif 18.5 <= bmi < 25:\n",
    "        return 'Normal'\n",
    "    elif 25 <= bmi < 30:\n",
    "        return 'Overweight'\n",
    "    else:\n",
    "        return 'Obese'"
   ]
  },
  {
   "cell_type": "code",
   "execution_count": 17,
   "id": "7457ac15",
   "metadata": {},
   "outputs": [],
   "source": [
    "df['BMI Category'] = df['BMI'].apply(category)"
   ]
  },
  {
   "cell_type": "code",
   "execution_count": 18,
   "id": "3c3ae0d0",
   "metadata": {},
   "outputs": [
    {
     "data": {
      "text/html": [
       "<div>\n",
       "<style scoped>\n",
       "    .dataframe tbody tr th:only-of-type {\n",
       "        vertical-align: middle;\n",
       "    }\n",
       "\n",
       "    .dataframe tbody tr th {\n",
       "        vertical-align: top;\n",
       "    }\n",
       "\n",
       "    .dataframe thead th {\n",
       "        text-align: right;\n",
       "    }\n",
       "</style>\n",
       "<table border=\"1\" class=\"dataframe\">\n",
       "  <thead>\n",
       "    <tr style=\"text-align: right;\">\n",
       "      <th></th>\n",
       "      <th>Reg_Code</th>\n",
       "      <th>Region</th>\n",
       "      <th>Area</th>\n",
       "      <th>Avg_HCI</th>\n",
       "      <th>Average BP_Sys</th>\n",
       "      <th>Average BP_Dias</th>\n",
       "      <th>height</th>\n",
       "      <th>Weight</th>\n",
       "      <th>Age</th>\n",
       "      <th>Male</th>\n",
       "      <th>Female</th>\n",
       "      <th>BMI</th>\n",
       "      <th>BMI Category</th>\n",
       "    </tr>\n",
       "  </thead>\n",
       "  <tbody>\n",
       "    <tr>\n",
       "      <th>0</th>\n",
       "      <td>E12000009</td>\n",
       "      <td>South West</td>\n",
       "      <td>Tewkesbury</td>\n",
       "      <td>42.0056</td>\n",
       "      <td>115</td>\n",
       "      <td>72</td>\n",
       "      <td>1.81</td>\n",
       "      <td>86</td>\n",
       "      <td>38</td>\n",
       "      <td>62</td>\n",
       "      <td>33</td>\n",
       "      <td>26.250725</td>\n",
       "      <td>Overweight</td>\n",
       "    </tr>\n",
       "    <tr>\n",
       "      <th>1</th>\n",
       "      <td>E12000004</td>\n",
       "      <td>East Midlands</td>\n",
       "      <td>South Northamptonshire</td>\n",
       "      <td>52.4352</td>\n",
       "      <td>103</td>\n",
       "      <td>87</td>\n",
       "      <td>1.69</td>\n",
       "      <td>118</td>\n",
       "      <td>54</td>\n",
       "      <td>70</td>\n",
       "      <td>36</td>\n",
       "      <td>41.315080</td>\n",
       "      <td>Obese</td>\n",
       "    </tr>\n",
       "    <tr>\n",
       "      <th>2</th>\n",
       "      <td>E12000009</td>\n",
       "      <td>South West</td>\n",
       "      <td>South Gloucestershire</td>\n",
       "      <td>44.5836</td>\n",
       "      <td>131</td>\n",
       "      <td>77</td>\n",
       "      <td>1.86</td>\n",
       "      <td>76</td>\n",
       "      <td>50</td>\n",
       "      <td>76</td>\n",
       "      <td>38</td>\n",
       "      <td>21.967858</td>\n",
       "      <td>Normal</td>\n",
       "    </tr>\n",
       "    <tr>\n",
       "      <th>3</th>\n",
       "      <td>E12000008</td>\n",
       "      <td>South East</td>\n",
       "      <td>Guildford</td>\n",
       "      <td>42.7372</td>\n",
       "      <td>124</td>\n",
       "      <td>84</td>\n",
       "      <td>1.84</td>\n",
       "      <td>86</td>\n",
       "      <td>34</td>\n",
       "      <td>70</td>\n",
       "      <td>36</td>\n",
       "      <td>25.401701</td>\n",
       "      <td>Overweight</td>\n",
       "    </tr>\n",
       "    <tr>\n",
       "      <th>4</th>\n",
       "      <td>E12000004</td>\n",
       "      <td>East Midlands</td>\n",
       "      <td>Corby</td>\n",
       "      <td>45.8024</td>\n",
       "      <td>109</td>\n",
       "      <td>82</td>\n",
       "      <td>1.71</td>\n",
       "      <td>76</td>\n",
       "      <td>61</td>\n",
       "      <td>66</td>\n",
       "      <td>26</td>\n",
       "      <td>25.990903</td>\n",
       "      <td>Overweight</td>\n",
       "    </tr>\n",
       "  </tbody>\n",
       "</table>\n",
       "</div>"
      ],
      "text/plain": [
       "    Reg_Code         Region                    Area  Avg_HCI  Average BP_Sys  \\\n",
       "0  E12000009     South West              Tewkesbury  42.0056             115   \n",
       "1  E12000004  East Midlands  South Northamptonshire  52.4352             103   \n",
       "2  E12000009     South West   South Gloucestershire  44.5836             131   \n",
       "3  E12000008     South East               Guildford  42.7372             124   \n",
       "4  E12000004  East Midlands                   Corby  45.8024             109   \n",
       "\n",
       "   Average BP_Dias  height  Weight  Age  Male  Female        BMI BMI Category  \n",
       "0               72    1.81      86   38    62      33  26.250725   Overweight  \n",
       "1               87    1.69     118   54    70      36  41.315080        Obese  \n",
       "2               77    1.86      76   50    76      38  21.967858       Normal  \n",
       "3               84    1.84      86   34    70      36  25.401701   Overweight  \n",
       "4               82    1.71      76   61    66      26  25.990903   Overweight  "
      ]
     },
     "execution_count": 18,
     "metadata": {},
     "output_type": "execute_result"
    }
   ],
   "source": [
    "df.head()"
   ]
  },
  {
   "cell_type": "markdown",
   "id": "aa6d114e",
   "metadata": {},
   "source": [
    "# PS 4: Calculate the average ‘Average HCI’ for each region"
   ]
  },
  {
   "cell_type": "code",
   "execution_count": 19,
   "id": "50b8b317",
   "metadata": {},
   "outputs": [],
   "source": [
    "y = df.groupby('Region')['Avg_HCI'].mean()"
   ]
  },
  {
   "cell_type": "code",
   "execution_count": 20,
   "id": "45ec2e6d",
   "metadata": {},
   "outputs": [
    {
     "data": {
      "text/plain": [
       "Region\n",
       "East                        48.441030\n",
       "East Midlands               48.458620\n",
       "London                      47.302570\n",
       "North East                  46.247600\n",
       "North West                  46.407538\n",
       "South East                  48.551009\n",
       "South West                  46.465589\n",
       "West Midlands               48.768107\n",
       "Yorkshire and The Humber    47.917048\n",
       "Name: Avg_HCI, dtype: float64"
      ]
     },
     "execution_count": 20,
     "metadata": {},
     "output_type": "execute_result"
    }
   ],
   "source": [
    "y"
   ]
  },
  {
   "cell_type": "markdown",
   "id": "ebf4d0f6",
   "metadata": {},
   "source": [
    "# PS 5: Find the region with the highest average ‘Average HCI’ and display the corresponding details"
   ]
  },
  {
   "cell_type": "code",
   "execution_count": 21,
   "id": "5fca71af",
   "metadata": {},
   "outputs": [
    {
     "data": {
      "text/html": [
       "<div>\n",
       "<style scoped>\n",
       "    .dataframe tbody tr th:only-of-type {\n",
       "        vertical-align: middle;\n",
       "    }\n",
       "\n",
       "    .dataframe tbody tr th {\n",
       "        vertical-align: top;\n",
       "    }\n",
       "\n",
       "    .dataframe thead th {\n",
       "        text-align: right;\n",
       "    }\n",
       "</style>\n",
       "<table border=\"1\" class=\"dataframe\">\n",
       "  <thead>\n",
       "    <tr style=\"text-align: right;\">\n",
       "      <th></th>\n",
       "      <th>Reg_Code</th>\n",
       "      <th>Region</th>\n",
       "      <th>Area</th>\n",
       "      <th>Avg_HCI</th>\n",
       "      <th>Average BP_Sys</th>\n",
       "      <th>Average BP_Dias</th>\n",
       "      <th>height</th>\n",
       "      <th>Weight</th>\n",
       "      <th>Age</th>\n",
       "      <th>Male</th>\n",
       "      <th>Female</th>\n",
       "      <th>BMI</th>\n",
       "      <th>BMI Category</th>\n",
       "    </tr>\n",
       "  </thead>\n",
       "  <tbody>\n",
       "    <tr>\n",
       "      <th>209</th>\n",
       "      <td>E12000005</td>\n",
       "      <td>West Midlands</td>\n",
       "      <td>Stratford-on-Avon</td>\n",
       "      <td>58.2728</td>\n",
       "      <td>140</td>\n",
       "      <td>87</td>\n",
       "      <td>1.68</td>\n",
       "      <td>118</td>\n",
       "      <td>66</td>\n",
       "      <td>54</td>\n",
       "      <td>33</td>\n",
       "      <td>41.80839</td>\n",
       "      <td>Obese</td>\n",
       "    </tr>\n",
       "  </tbody>\n",
       "</table>\n",
       "</div>"
      ],
      "text/plain": [
       "      Reg_Code         Region               Area  Avg_HCI  Average BP_Sys  \\\n",
       "209  E12000005  West Midlands  Stratford-on-Avon  58.2728             140   \n",
       "\n",
       "     Average BP_Dias  height  Weight  Age  Male  Female       BMI BMI Category  \n",
       "209               87    1.68     118   66    54      33  41.80839        Obese  "
      ]
     },
     "execution_count": 21,
     "metadata": {},
     "output_type": "execute_result"
    }
   ],
   "source": [
    "df.sort_values(by='Avg_HCI',ascending=False).head(1)"
   ]
  },
  {
   "cell_type": "markdown",
   "id": "fa678cc0",
   "metadata": {},
   "source": [
    "# PS 6: Calculate the average ‘Average HCI’ for employees aged between 30 and 40 in each region"
   ]
  },
  {
   "cell_type": "code",
   "execution_count": 22,
   "id": "f3896b8b",
   "metadata": {},
   "outputs": [],
   "source": [
    "z= df[(df['Age'] >= 30) & (df['Age'] <= 40)]"
   ]
  },
  {
   "cell_type": "code",
   "execution_count": 23,
   "id": "020234df",
   "metadata": {},
   "outputs": [
    {
     "data": {
      "text/plain": [
       "Region\n",
       "East                        45.400143\n",
       "East Midlands               44.506178\n",
       "London                      45.151829\n",
       "North East                  43.563700\n",
       "North West                  44.040089\n",
       "South East                  45.282178\n",
       "South West                  43.197200\n",
       "West Midlands               46.236171\n",
       "Yorkshire and The Humber    44.153333\n",
       "Name: Avg_HCI, dtype: float64"
      ]
     },
     "execution_count": 23,
     "metadata": {},
     "output_type": "execute_result"
    }
   ],
   "source": [
    "z.groupby('Region')['Avg_HCI'].mean()"
   ]
  },
  {
   "cell_type": "markdown",
   "id": "5826c247",
   "metadata": {},
   "source": [
    "# PS 7: Create a binary column 'High Blood Pressure' indicating whether an employee has high Blood pressure"
   ]
  },
  {
   "cell_type": "code",
   "execution_count": 24,
   "id": "97ec89ed",
   "metadata": {},
   "outputs": [],
   "source": [
    "df['High Blood Pressure'] = (df['Average BP_Sys'] > 130) | (df['Average BP_Dias'] > 80)"
   ]
  },
  {
   "cell_type": "code",
   "execution_count": 25,
   "id": "1d1a3c3a",
   "metadata": {},
   "outputs": [
    {
     "data": {
      "text/html": [
       "<div>\n",
       "<style scoped>\n",
       "    .dataframe tbody tr th:only-of-type {\n",
       "        vertical-align: middle;\n",
       "    }\n",
       "\n",
       "    .dataframe tbody tr th {\n",
       "        vertical-align: top;\n",
       "    }\n",
       "\n",
       "    .dataframe thead th {\n",
       "        text-align: right;\n",
       "    }\n",
       "</style>\n",
       "<table border=\"1\" class=\"dataframe\">\n",
       "  <thead>\n",
       "    <tr style=\"text-align: right;\">\n",
       "      <th></th>\n",
       "      <th>Reg_Code</th>\n",
       "      <th>Region</th>\n",
       "      <th>Area</th>\n",
       "      <th>Avg_HCI</th>\n",
       "      <th>Average BP_Sys</th>\n",
       "      <th>Average BP_Dias</th>\n",
       "      <th>height</th>\n",
       "      <th>Weight</th>\n",
       "      <th>Age</th>\n",
       "      <th>Male</th>\n",
       "      <th>Female</th>\n",
       "      <th>BMI</th>\n",
       "      <th>BMI Category</th>\n",
       "      <th>High Blood Pressure</th>\n",
       "    </tr>\n",
       "  </thead>\n",
       "  <tbody>\n",
       "    <tr>\n",
       "      <th>0</th>\n",
       "      <td>E12000009</td>\n",
       "      <td>South West</td>\n",
       "      <td>Tewkesbury</td>\n",
       "      <td>42.0056</td>\n",
       "      <td>115</td>\n",
       "      <td>72</td>\n",
       "      <td>1.81</td>\n",
       "      <td>86</td>\n",
       "      <td>38</td>\n",
       "      <td>62</td>\n",
       "      <td>33</td>\n",
       "      <td>26.250725</td>\n",
       "      <td>Overweight</td>\n",
       "      <td>False</td>\n",
       "    </tr>\n",
       "    <tr>\n",
       "      <th>1</th>\n",
       "      <td>E12000004</td>\n",
       "      <td>East Midlands</td>\n",
       "      <td>South Northamptonshire</td>\n",
       "      <td>52.4352</td>\n",
       "      <td>103</td>\n",
       "      <td>87</td>\n",
       "      <td>1.69</td>\n",
       "      <td>118</td>\n",
       "      <td>54</td>\n",
       "      <td>70</td>\n",
       "      <td>36</td>\n",
       "      <td>41.315080</td>\n",
       "      <td>Obese</td>\n",
       "      <td>True</td>\n",
       "    </tr>\n",
       "    <tr>\n",
       "      <th>2</th>\n",
       "      <td>E12000009</td>\n",
       "      <td>South West</td>\n",
       "      <td>South Gloucestershire</td>\n",
       "      <td>44.5836</td>\n",
       "      <td>131</td>\n",
       "      <td>77</td>\n",
       "      <td>1.86</td>\n",
       "      <td>76</td>\n",
       "      <td>50</td>\n",
       "      <td>76</td>\n",
       "      <td>38</td>\n",
       "      <td>21.967858</td>\n",
       "      <td>Normal</td>\n",
       "      <td>True</td>\n",
       "    </tr>\n",
       "    <tr>\n",
       "      <th>3</th>\n",
       "      <td>E12000008</td>\n",
       "      <td>South East</td>\n",
       "      <td>Guildford</td>\n",
       "      <td>42.7372</td>\n",
       "      <td>124</td>\n",
       "      <td>84</td>\n",
       "      <td>1.84</td>\n",
       "      <td>86</td>\n",
       "      <td>34</td>\n",
       "      <td>70</td>\n",
       "      <td>36</td>\n",
       "      <td>25.401701</td>\n",
       "      <td>Overweight</td>\n",
       "      <td>True</td>\n",
       "    </tr>\n",
       "    <tr>\n",
       "      <th>4</th>\n",
       "      <td>E12000004</td>\n",
       "      <td>East Midlands</td>\n",
       "      <td>Corby</td>\n",
       "      <td>45.8024</td>\n",
       "      <td>109</td>\n",
       "      <td>82</td>\n",
       "      <td>1.71</td>\n",
       "      <td>76</td>\n",
       "      <td>61</td>\n",
       "      <td>66</td>\n",
       "      <td>26</td>\n",
       "      <td>25.990903</td>\n",
       "      <td>Overweight</td>\n",
       "      <td>True</td>\n",
       "    </tr>\n",
       "  </tbody>\n",
       "</table>\n",
       "</div>"
      ],
      "text/plain": [
       "    Reg_Code         Region                    Area  Avg_HCI  Average BP_Sys  \\\n",
       "0  E12000009     South West              Tewkesbury  42.0056             115   \n",
       "1  E12000004  East Midlands  South Northamptonshire  52.4352             103   \n",
       "2  E12000009     South West   South Gloucestershire  44.5836             131   \n",
       "3  E12000008     South East               Guildford  42.7372             124   \n",
       "4  E12000004  East Midlands                   Corby  45.8024             109   \n",
       "\n",
       "   Average BP_Dias  height  Weight  Age  Male  Female        BMI BMI Category  \\\n",
       "0               72    1.81      86   38    62      33  26.250725   Overweight   \n",
       "1               87    1.69     118   54    70      36  41.315080        Obese   \n",
       "2               77    1.86      76   50    76      38  21.967858       Normal   \n",
       "3               84    1.84      86   34    70      36  25.401701   Overweight   \n",
       "4               82    1.71      76   61    66      26  25.990903   Overweight   \n",
       "\n",
       "   High Blood Pressure  \n",
       "0                False  \n",
       "1                 True  \n",
       "2                 True  \n",
       "3                 True  \n",
       "4                 True  "
      ]
     },
     "execution_count": 25,
     "metadata": {},
     "output_type": "execute_result"
    }
   ],
   "source": [
    "df.head()"
   ]
  },
  {
   "cell_type": "markdown",
   "id": "e6d75574",
   "metadata": {},
   "source": [
    "# PS 8: Use the Average HCI as the target variable and build a linear regression model to predict the average HCI based on height, weight, male and female. Evaluate the model’s performance."
   ]
  },
  {
   "cell_type": "code",
   "execution_count": 26,
   "id": "4d0a6a0f",
   "metadata": {},
   "outputs": [],
   "source": [
    "from sklearn.model_selection import train_test_split\n",
    "from sklearn.linear_model import LinearRegression\n",
    "from sklearn.metrics import mean_squared_error"
   ]
  },
  {
   "cell_type": "code",
   "execution_count": 27,
   "id": "19d8e750",
   "metadata": {},
   "outputs": [],
   "source": [
    "X = df[['height', 'Weight', 'Male', 'Female']]\n",
    "y = df['Avg_HCI']"
   ]
  },
  {
   "cell_type": "code",
   "execution_count": 28,
   "id": "d1a40a67",
   "metadata": {},
   "outputs": [],
   "source": [
    "X_train, X_test, y_train, y_test = train_test_split(X, y, test_size=0.2, random_state=42)"
   ]
  },
  {
   "cell_type": "code",
   "execution_count": 29,
   "id": "325a5dbc",
   "metadata": {},
   "outputs": [
    {
     "data": {
      "text/plain": [
       "LinearRegression()"
      ]
     },
     "execution_count": 29,
     "metadata": {},
     "output_type": "execute_result"
    }
   ],
   "source": [
    "model = LinearRegression()\n",
    "model.fit(X_train, y_train)"
   ]
  },
  {
   "cell_type": "code",
   "execution_count": 30,
   "id": "2e26f55e",
   "metadata": {},
   "outputs": [],
   "source": [
    "y_pred = model.predict(X_test)"
   ]
  },
  {
   "cell_type": "code",
   "execution_count": 31,
   "id": "4a1f14ef",
   "metadata": {},
   "outputs": [
    {
     "name": "stdout",
     "output_type": "stream",
     "text": [
      "Mean Squared Error: 12.568926777772756\n"
     ]
    }
   ],
   "source": [
    "mse = mean_squared_error(y_test, y_pred)\n",
    "print(\"Mean Squared Error:\", mse)"
   ]
  },
  {
   "cell_type": "code",
   "execution_count": null,
   "id": "85704c7f",
   "metadata": {},
   "outputs": [],
   "source": []
  }
 ],
 "metadata": {
  "kernelspec": {
   "display_name": "Python 3 (ipykernel)",
   "language": "python",
   "name": "python3"
  },
  "language_info": {
   "codemirror_mode": {
    "name": "ipython",
    "version": 3
   },
   "file_extension": ".py",
   "mimetype": "text/x-python",
   "name": "python",
   "nbconvert_exporter": "python",
   "pygments_lexer": "ipython3",
   "version": "3.11.7"
  }
 },
 "nbformat": 4,
 "nbformat_minor": 5
}
